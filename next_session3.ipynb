{
  "nbformat": 4,
  "nbformat_minor": 0,
  "metadata": {
    "colab": {
      "provenance": []
    },
    "kernelspec": {
      "name": "python3",
      "display_name": "Python 3"
    },
    "language_info": {
      "name": "python"
    }
  },
  "cells": [
    {
      "cell_type": "markdown",
      "source": [
        "# NEXT Session 3"
      ],
      "metadata": {
        "id": "Ev--5meRxrXk"
      }
    },
    {
      "cell_type": "code",
      "source": [
        "print('Hello, world')"
      ],
      "metadata": {
        "colab": {
          "base_uri": "https://localhost:8080/"
        },
        "id": "KUgmYB5qKDMN",
        "outputId": "0ae39d98-1031-4ee0-bfda-432b8150dbb4"
      },
      "execution_count": 46,
      "outputs": [
        {
          "output_type": "stream",
          "name": "stdout",
          "text": [
            "Hello, world\n"
          ]
        }
      ]
    },
    {
      "cell_type": "code",
      "source": [
        "show_me_the_money()"
      ],
      "metadata": {
        "colab": {
          "base_uri": "https://localhost:8080/",
          "height": 169
        },
        "id": "fX24FdX9KIQ7",
        "outputId": "ec873e1c-8605-4efd-8f4f-25abaa560a0f"
      },
      "execution_count": 47,
      "outputs": [
        {
          "output_type": "error",
          "ename": "NameError",
          "evalue": "ignored",
          "traceback": [
            "\u001b[0;31m---------------------------------------------------------------------------\u001b[0m",
            "\u001b[0;31mNameError\u001b[0m                                 Traceback (most recent call last)",
            "\u001b[0;32m<ipython-input-47-a0c6f052db5b>\u001b[0m in \u001b[0;36m<module>\u001b[0;34m\u001b[0m\n\u001b[0;32m----> 1\u001b[0;31m \u001b[0mshow_me_the_money\u001b[0m\u001b[0;34m(\u001b[0m\u001b[0;34m)\u001b[0m\u001b[0;34m\u001b[0m\u001b[0;34m\u001b[0m\u001b[0m\n\u001b[0m",
            "\u001b[0;31mNameError\u001b[0m: name 'show_me_the_money' is not defined"
          ]
        }
      ]
    },
    {
      "cell_type": "code",
      "source": [
        "def show_me_the_money():\n",
        "  print('This is your Money')\n",
        "\n",
        "show_me_the_money()"
      ],
      "metadata": {
        "colab": {
          "base_uri": "https://localhost:8080/"
        },
        "id": "N6Pgm0KTKLbB",
        "outputId": "30b93c92-ed4f-4a13-8d58-da8bdc44a900"
      },
      "execution_count": 48,
      "outputs": [
        {
          "output_type": "stream",
          "name": "stdout",
          "text": [
            "This is your Money\n"
          ]
        }
      ]
    },
    {
      "cell_type": "code",
      "source": [
        "def show_me_the_money():\n",
        "  print('This is your Money - ')\n",
        "\n",
        "show_me_the_money(1000)"
      ],
      "metadata": {
        "colab": {
          "base_uri": "https://localhost:8080/",
          "height": 204
        },
        "id": "dcwO9JBQKUGp",
        "outputId": "d2d58a94-ca72-4b05-d8e0-4b65a97a7900"
      },
      "execution_count": 50,
      "outputs": [
        {
          "output_type": "error",
          "ename": "TypeError",
          "evalue": "ignored",
          "traceback": [
            "\u001b[0;31m---------------------------------------------------------------------------\u001b[0m",
            "\u001b[0;31mTypeError\u001b[0m                                 Traceback (most recent call last)",
            "\u001b[0;32m<ipython-input-50-477295296fb0>\u001b[0m in \u001b[0;36m<module>\u001b[0;34m\u001b[0m\n\u001b[1;32m      2\u001b[0m   \u001b[0mprint\u001b[0m\u001b[0;34m(\u001b[0m\u001b[0;34m'This is your Money - '\u001b[0m\u001b[0;34m)\u001b[0m\u001b[0;34m\u001b[0m\u001b[0;34m\u001b[0m\u001b[0m\n\u001b[1;32m      3\u001b[0m \u001b[0;34m\u001b[0m\u001b[0m\n\u001b[0;32m----> 4\u001b[0;31m \u001b[0mshow_me_the_money\u001b[0m\u001b[0;34m(\u001b[0m\u001b[0;36m1000\u001b[0m\u001b[0;34m)\u001b[0m\u001b[0;34m\u001b[0m\u001b[0;34m\u001b[0m\u001b[0m\n\u001b[0m",
            "\u001b[0;31mTypeError\u001b[0m: show_me_the_money() takes 0 positional arguments but 1 was given"
          ]
        }
      ]
    },
    {
      "cell_type": "code",
      "source": [
        "def show_me_the_money(amount):\n",
        "  print(f'This is your Money - {amount}')\n",
        "\n",
        "show_me_the_money(1000)"
      ],
      "metadata": {
        "colab": {
          "base_uri": "https://localhost:8080/"
        },
        "id": "og_-fqGoKX22",
        "outputId": "726420e5-42c2-41db-d4e3-b50bf6dfa7d2"
      },
      "execution_count": 52,
      "outputs": [
        {
          "output_type": "stream",
          "name": "stdout",
          "text": [
            "This is your Money - 1000\n"
          ]
        }
      ]
    },
    {
      "cell_type": "code",
      "source": [
        "total_amount= 1000\n",
        "\n",
        "def show_me_the_money(amount):\n",
        "  # 조건문 분기1\n",
        "  if amount <= total_amount:\n",
        "    print(f'This is your money - {amount}')\n",
        "  # 조건문 분기2\n",
        "  else:\n",
        "    print('Your money is not enough')\n",
        "\n",
        "show_me_the_money(1500)"
      ],
      "metadata": {
        "colab": {
          "base_uri": "https://localhost:8080/"
        },
        "id": "nAaZYhJEKfvk",
        "outputId": "1c15040f-fef7-49a3-a4a8-24325f555e84"
      },
      "execution_count": 56,
      "outputs": [
        {
          "output_type": "stream",
          "name": "stdout",
          "text": [
            "Your money is not enough\n"
          ]
        }
      ]
    },
    {
      "cell_type": "code",
      "source": [
        "total_amount= 1000\n",
        "limit_for_loan = 500\n",
        "\n",
        "def show_me_the_money(amount):\n",
        "  # 조건문 분기1\n",
        "  if amount <= total_amount:\n",
        "    print(f'This is your money - {amount}')\n",
        "  # 조건문 분기2\n",
        "  elif amount <= (total_amount + limit_for_loan):\n",
        "    print('Wait!! Do you want loan?')\n",
        "  # 조건문 분기3\n",
        "  else:\n",
        "    print('Your money is not enough')\n",
        "\n",
        "show_me_the_money(1200)"
      ],
      "metadata": {
        "colab": {
          "base_uri": "https://localhost:8080/"
        },
        "id": "B9EPcFonLE6s",
        "outputId": "557a74ba-b755-4808-f1ae-11e646144edf"
      },
      "execution_count": 59,
      "outputs": [
        {
          "output_type": "stream",
          "name": "stdout",
          "text": [
            "Wait!! Do you want loan?\n"
          ]
        }
      ]
    },
    {
      "cell_type": "code",
      "source": [
        "total_amount= 1000\n",
        "limit_for_loan = 500\n",
        "limit_for_withdrawal = 100\n",
        "\n",
        "def show_me_the_money(amount):\n",
        "  # 조건문 분기1\n",
        "  if amount <= total_amount:\n",
        "    count = amount // limit_for_withdrawal\n",
        "    rest = amount % limit_for_withdrawal\n",
        "    # 반복문\n",
        "    for i in range(count):\n",
        "      print(f'This is your money - {limit_for_withdrawal}')\n",
        "      # 중첩구조\n",
        "      if i == (count - 1):\n",
        "        print(f'This is your money - {rest}')\n",
        "  # 조건문 분기2\n",
        "  elif amount <= (total_amount + limit_for_loan):\n",
        "    print('Wait!! Do you want loan?')\n",
        "  # 조건문 분기3\n",
        "  else:\n",
        "    print('Your money is not enough')\n",
        "\n",
        "show_me_the_money(350)"
      ],
      "metadata": {
        "colab": {
          "base_uri": "https://localhost:8080/"
        },
        "id": "Go9WGyDHLXGa",
        "outputId": "378a87c5-a7cc-4b5d-c145-61a4be191a15"
      },
      "execution_count": 63,
      "outputs": [
        {
          "output_type": "stream",
          "name": "stdout",
          "text": [
            "This is your money - 100\n",
            "This is your money - 100\n",
            "This is your money - 100\n",
            "This is your money - 50\n"
          ]
        }
      ]
    },
    {
      "cell_type": "code",
      "source": [
        "total_amount= 1000\n",
        "limit_for_loan = 500\n",
        "limit_for_withdrawal = 100\n",
        "\n",
        "def repeat_withdrawing_money(amount, limit_for_withdrawal):\n",
        "  count = amount // limit_for_withdrawal\n",
        "  rest = amount % limit_for_withdrawal\n",
        "  # 반복문\n",
        "  for i in range(count):\n",
        "    print(f'This is your money - {limit_for_withdrawal}')\n",
        "    # 중첩구조\n",
        "    if i == (count - 1):\n",
        "      print(f'This is your money - {rest}')\n",
        "\n",
        "def show_me_the_money(amount):\n",
        "  # 조건문 분기1\n",
        "  if amount <= total_amount:\n",
        "    repeat_withdrawing_money(amount, limit_for_withdrawal)\n",
        "  # 조건문 분기2\n",
        "  elif amount <= (total_amount + limit_for_loan):\n",
        "    print('Wait!! Do you want loan?')\n",
        "  # 조건문 분기3\n",
        "  else:\n",
        "    print('Your money is not enough')\n",
        "\n",
        "show_me_the_money(350)"
      ],
      "metadata": {
        "colab": {
          "base_uri": "https://localhost:8080/"
        },
        "id": "hru13nsILnAG",
        "outputId": "3e6779a8-e221-40bd-fc83-7b4533f18f44"
      },
      "execution_count": 65,
      "outputs": [
        {
          "output_type": "stream",
          "name": "stdout",
          "text": [
            "This is your money - 100\n",
            "This is your money - 100\n",
            "This is your money - 100\n",
            "This is your money - 50\n"
          ]
        }
      ]
    },
    {
      "cell_type": "code",
      "source": [
        "class Bank:\n",
        "  def __init__(self, total_amount, limit_for_loan, limit_for_withdrawal):\n",
        "    self.total_amount = total_amount\n",
        "    self.limit_for_loan = limit_for_loan\n",
        "    self.limit_for_withdrawal = limit_for_withdrawal\n",
        "\n",
        "  def repeat_withdrawing_money(self, amount, limit_for_withdrawal):\n",
        "    count = amount // limit_for_withdrawal\n",
        "    rest = amount % limit_for_withdrawal\n",
        "    # 반복문\n",
        "    for i in range(count):\n",
        "      print(f'This is your money - {limit_for_withdrawal}')\n",
        "      # 중첩구조\n",
        "      if i == (count - 1):\n",
        "        print(f'This is your money - {rest}')\n",
        "\n",
        "  def show_me_the_money(self, amount):\n",
        "    # 조건문 분기1\n",
        "    if amount <= self.total_amount:\n",
        "      self.repeat_withdrawing_money(amount, self.limit_for_withdrawal)\n",
        "    # 조건문 분기2\n",
        "    elif amount <= (self.total_amount + self.limit_for_loan):\n",
        "      print('Wait!! Do you want loan?')\n",
        "    # 조건문 분기3\n",
        "    else:\n",
        "      print('Your money is not enough')\n",
        "\n",
        "hana_bank = Bank(1000, 200, 100)\n",
        "hana_bank.show_me_the_money(450)\n",
        "print()\n",
        "\n",
        "sinhan_bank = Bank(500, 500, 50)\n",
        "sinhan_bank.show_me_the_money(250)"
      ],
      "metadata": {
        "colab": {
          "base_uri": "https://localhost:8080/"
        },
        "id": "O-UBxDmXxK5L",
        "outputId": "00aa52cc-cce3-436f-9670-b98565e097b6"
      },
      "execution_count": 45,
      "outputs": [
        {
          "output_type": "stream",
          "name": "stdout",
          "text": [
            "This is your money - 100\n",
            "This is your money - 100\n",
            "This is your money - 100\n",
            "This is your money - 100\n",
            "This is your money - 50\n",
            "\n",
            "This is your money - 50\n",
            "This is your money - 50\n",
            "This is your money - 50\n",
            "This is your money - 50\n",
            "This is your money - 50\n",
            "This is your money - 0\n"
          ]
        }
      ]
    },
    {
      "cell_type": "code",
      "source": [],
      "metadata": {
        "id": "tqwVUpWD4P8J"
      },
      "execution_count": null,
      "outputs": []
    }
  ]
}